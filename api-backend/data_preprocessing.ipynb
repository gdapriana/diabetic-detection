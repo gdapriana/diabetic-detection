{
 "cells": [
  {
   "cell_type": "markdown",
   "metadata": {},
   "source": [
    "### Data Preprocessing\n",
    "Data preprocessing in machine learning is the process of preparing the raw data and making it suitable for a machine learning model. It is the first and crucial step while creating a machine learning model.\n",
    "\n",
    "Data preprocessing involves tasks such as:\n",
    "- Acquiring the dataset from various sources\n",
    "- Importing the necessary libraries and tools for data manipulation\n",
    "- Importing the dataset into a suitable data structure\n",
    "- Handling missing values and outliers\n",
    "- Encoding categorical variables\n",
    "- Splitting the dataset into training and test sets\n",
    "- Scaling or normalizing the features\n",
    "- Extracting or selecting relevant features\n",
    "\n",
    "> Data preprocessing is important because it can improve the quality and performance of the machine learning model. It can also reduce the complexity and computational cost of the model. Data preprocessing can help to uncover hidden patterns and insights from the data. 🧠\n",
    "\n",
    "\n",
    "In this secenario, the data will:\n",
    "- [x] Remove Duplicated Data\n",
    "- [x] Remove row of missing value/s\n",
    "- [x] Scaling or normalizing the feature/s"
   ]
  },
  {
   "cell_type": "markdown",
   "metadata": {},
   "source": [
    "#### Essential library imports\n",
    "There are many libraries that can help you with data preprocessing in Python, but some of the most popular and useful"
   ]
  },
  {
   "cell_type": "code",
   "execution_count": 22,
   "metadata": {},
   "outputs": [],
   "source": [
    "import pandas as pd\n",
    "import numpy as np\n",
    "from sklearn.preprocessing import MinMaxScaler\n",
    "from numpy import genfromtxt\n",
    "import csv"
   ]
  },
  {
   "cell_type": "markdown",
   "metadata": {},
   "source": [
    "#### Load the dataset\n",
    "the dataset is got from kaggle"
   ]
  },
  {
   "cell_type": "code",
   "execution_count": 2,
   "metadata": {},
   "outputs": [
    {
     "data": {
      "text/html": [
       "<div>\n",
       "<style scoped>\n",
       "    .dataframe tbody tr th:only-of-type {\n",
       "        vertical-align: middle;\n",
       "    }\n",
       "\n",
       "    .dataframe tbody tr th {\n",
       "        vertical-align: top;\n",
       "    }\n",
       "\n",
       "    .dataframe thead th {\n",
       "        text-align: right;\n",
       "    }\n",
       "</style>\n",
       "<table border=\"1\" class=\"dataframe\">\n",
       "  <thead>\n",
       "    <tr style=\"text-align: right;\">\n",
       "      <th></th>\n",
       "      <th>Pregnancies</th>\n",
       "      <th>Glucose</th>\n",
       "      <th>BloodPressure</th>\n",
       "      <th>SkinThickness</th>\n",
       "      <th>Insulin</th>\n",
       "      <th>BMI</th>\n",
       "      <th>DiabetesPedigreeFunction</th>\n",
       "      <th>Age</th>\n",
       "      <th>Outcome</th>\n",
       "    </tr>\n",
       "  </thead>\n",
       "  <tbody>\n",
       "    <tr>\n",
       "      <th>0</th>\n",
       "      <td>6</td>\n",
       "      <td>148</td>\n",
       "      <td>72</td>\n",
       "      <td>35</td>\n",
       "      <td>0</td>\n",
       "      <td>33.6</td>\n",
       "      <td>0.627</td>\n",
       "      <td>50</td>\n",
       "      <td>1</td>\n",
       "    </tr>\n",
       "    <tr>\n",
       "      <th>1</th>\n",
       "      <td>1</td>\n",
       "      <td>85</td>\n",
       "      <td>66</td>\n",
       "      <td>29</td>\n",
       "      <td>0</td>\n",
       "      <td>26.6</td>\n",
       "      <td>0.351</td>\n",
       "      <td>31</td>\n",
       "      <td>0</td>\n",
       "    </tr>\n",
       "    <tr>\n",
       "      <th>2</th>\n",
       "      <td>8</td>\n",
       "      <td>183</td>\n",
       "      <td>64</td>\n",
       "      <td>0</td>\n",
       "      <td>0</td>\n",
       "      <td>23.3</td>\n",
       "      <td>0.672</td>\n",
       "      <td>32</td>\n",
       "      <td>1</td>\n",
       "    </tr>\n",
       "    <tr>\n",
       "      <th>3</th>\n",
       "      <td>1</td>\n",
       "      <td>89</td>\n",
       "      <td>66</td>\n",
       "      <td>23</td>\n",
       "      <td>94</td>\n",
       "      <td>28.1</td>\n",
       "      <td>0.167</td>\n",
       "      <td>21</td>\n",
       "      <td>0</td>\n",
       "    </tr>\n",
       "    <tr>\n",
       "      <th>4</th>\n",
       "      <td>0</td>\n",
       "      <td>137</td>\n",
       "      <td>40</td>\n",
       "      <td>35</td>\n",
       "      <td>168</td>\n",
       "      <td>43.1</td>\n",
       "      <td>2.288</td>\n",
       "      <td>33</td>\n",
       "      <td>1</td>\n",
       "    </tr>\n",
       "  </tbody>\n",
       "</table>\n",
       "</div>"
      ],
      "text/plain": [
       "   Pregnancies  Glucose  BloodPressure  SkinThickness  Insulin   BMI  \\\n",
       "0            6      148             72             35        0  33.6   \n",
       "1            1       85             66             29        0  26.6   \n",
       "2            8      183             64              0        0  23.3   \n",
       "3            1       89             66             23       94  28.1   \n",
       "4            0      137             40             35      168  43.1   \n",
       "\n",
       "   DiabetesPedigreeFunction  Age  Outcome  \n",
       "0                     0.627   50        1  \n",
       "1                     0.351   31        0  \n",
       "2                     0.672   32        1  \n",
       "3                     0.167   21        0  \n",
       "4                     2.288   33        1  "
      ]
     },
     "execution_count": 2,
     "metadata": {},
     "output_type": "execute_result"
    }
   ],
   "source": [
    "dataset = pd.read_csv('dataset/diabetes.csv')\n",
    "dataset.head()"
   ]
  },
  {
   "cell_type": "markdown",
   "metadata": {},
   "source": [
    "#### Rename the columns\n",
    "As we se above, the columns name are hard to read. So we will rename the columns for easy to read."
   ]
  },
  {
   "cell_type": "code",
   "execution_count": 3,
   "metadata": {},
   "outputs": [
    {
     "data": {
      "text/html": [
       "<div>\n",
       "<style scoped>\n",
       "    .dataframe tbody tr th:only-of-type {\n",
       "        vertical-align: middle;\n",
       "    }\n",
       "\n",
       "    .dataframe tbody tr th {\n",
       "        vertical-align: top;\n",
       "    }\n",
       "\n",
       "    .dataframe thead th {\n",
       "        text-align: right;\n",
       "    }\n",
       "</style>\n",
       "<table border=\"1\" class=\"dataframe\">\n",
       "  <thead>\n",
       "    <tr style=\"text-align: right;\">\n",
       "      <th></th>\n",
       "      <th>pregnancies</th>\n",
       "      <th>glucose</th>\n",
       "      <th>bloodpress</th>\n",
       "      <th>skinthick</th>\n",
       "      <th>Insulin</th>\n",
       "      <th>bmi</th>\n",
       "      <th>diabetespedigree</th>\n",
       "      <th>age</th>\n",
       "      <th>outcome</th>\n",
       "    </tr>\n",
       "  </thead>\n",
       "  <tbody>\n",
       "    <tr>\n",
       "      <th>0</th>\n",
       "      <td>6</td>\n",
       "      <td>148</td>\n",
       "      <td>72</td>\n",
       "      <td>35</td>\n",
       "      <td>0</td>\n",
       "      <td>33.6</td>\n",
       "      <td>0.627</td>\n",
       "      <td>50</td>\n",
       "      <td>1</td>\n",
       "    </tr>\n",
       "    <tr>\n",
       "      <th>1</th>\n",
       "      <td>1</td>\n",
       "      <td>85</td>\n",
       "      <td>66</td>\n",
       "      <td>29</td>\n",
       "      <td>0</td>\n",
       "      <td>26.6</td>\n",
       "      <td>0.351</td>\n",
       "      <td>31</td>\n",
       "      <td>0</td>\n",
       "    </tr>\n",
       "    <tr>\n",
       "      <th>2</th>\n",
       "      <td>8</td>\n",
       "      <td>183</td>\n",
       "      <td>64</td>\n",
       "      <td>0</td>\n",
       "      <td>0</td>\n",
       "      <td>23.3</td>\n",
       "      <td>0.672</td>\n",
       "      <td>32</td>\n",
       "      <td>1</td>\n",
       "    </tr>\n",
       "    <tr>\n",
       "      <th>3</th>\n",
       "      <td>1</td>\n",
       "      <td>89</td>\n",
       "      <td>66</td>\n",
       "      <td>23</td>\n",
       "      <td>94</td>\n",
       "      <td>28.1</td>\n",
       "      <td>0.167</td>\n",
       "      <td>21</td>\n",
       "      <td>0</td>\n",
       "    </tr>\n",
       "    <tr>\n",
       "      <th>4</th>\n",
       "      <td>0</td>\n",
       "      <td>137</td>\n",
       "      <td>40</td>\n",
       "      <td>35</td>\n",
       "      <td>168</td>\n",
       "      <td>43.1</td>\n",
       "      <td>2.288</td>\n",
       "      <td>33</td>\n",
       "      <td>1</td>\n",
       "    </tr>\n",
       "  </tbody>\n",
       "</table>\n",
       "</div>"
      ],
      "text/plain": [
       "   pregnancies  glucose  bloodpress  skinthick  Insulin   bmi  \\\n",
       "0            6      148          72         35        0  33.6   \n",
       "1            1       85          66         29        0  26.6   \n",
       "2            8      183          64          0        0  23.3   \n",
       "3            1       89          66         23       94  28.1   \n",
       "4            0      137          40         35      168  43.1   \n",
       "\n",
       "   diabetespedigree  age  outcome  \n",
       "0             0.627   50        1  \n",
       "1             0.351   31        0  \n",
       "2             0.672   32        1  \n",
       "3             0.167   21        0  \n",
       "4             2.288   33        1  "
      ]
     },
     "execution_count": 3,
     "metadata": {},
     "output_type": "execute_result"
    }
   ],
   "source": [
    "dataset = dataset.rename(columns={\"Pregnancies\": \"pregnancies\",\n",
    "                                  \"Glucose\": \"glucose\", \n",
    "                                  \"BloodPressure\": \"bloodpress\",\n",
    "                                  \"SkinThickness\": \"skinthick\",\n",
    "                                  \"Insulins\": \"insulin\", \n",
    "                                  \"BMI\": \"bmi\",\n",
    "                                  \"DiabetesPedigreeFunction\": \"diabetespedigree\",\n",
    "                                  \"Age\": \"age\",\n",
    "                                  \"Outcome\": \"outcome\"})\n",
    "dataset.head()"
   ]
  },
  {
   "cell_type": "markdown",
   "metadata": {},
   "source": [
    "#### Remove Duplicated\n",
    "Removing duplicated data is important in data analysis because it can affect the results and performance of the data analysis methods. Duplicated data can:\n",
    "- Bias the distribution and statistics of the data, such as mean, variance, and correlation.\n",
    "- Inflate the accuracy and confidence of the data analysis models, such as clustering and classification.\n",
    "- Increase the complexity and computational cost of the data analysis algorithms, such as k-means and hierarchical clustering."
   ]
  },
  {
   "cell_type": "code",
   "execution_count": 4,
   "metadata": {},
   "outputs": [
    {
     "name": "stdout",
     "output_type": "stream",
     "text": [
      "Duplicated data: 0\n",
      "Duplicated data after removing: 0\n"
     ]
    }
   ],
   "source": [
    "print(f\"Duplicated data: {dataset.duplicated().sum()}\")\n",
    "if dataset.duplicated().sum() != 0:\n",
    "  dataset = dataset.drop_duplicates()\n",
    "print(f\"Duplicated data after removing: {dataset.duplicated().sum()}\")"
   ]
  },
  {
   "cell_type": "markdown",
   "metadata": {},
   "source": [
    "#### Remove Null Value/s\n",
    "Removing null values is important in data analysis because they can affect the quality and validity of the data and the analysis results. Null values are the values that are not present or not recorded in the dataset. They can occur due to various reasons, such as data entry errors, data corruption, or data collection problems"
   ]
  },
  {
   "cell_type": "code",
   "execution_count": 5,
   "metadata": {},
   "outputs": [
    {
     "name": "stdout",
     "output_type": "stream",
     "text": [
      "Null values: 0\n",
      "Null values after removing: 0\n"
     ]
    }
   ],
   "source": [
    "print(f\"Null values: {dataset.isnull().sum().sum()}\")\n",
    "if dataset.isnull().sum().sum() != 0:\n",
    "  dataset = dataset.dropna()\n",
    "print(f\"Null values after removing: {dataset.isnull().sum().sum()}\")"
   ]
  },
  {
   "cell_type": "markdown",
   "metadata": {},
   "source": [
    "#### Normalize the data\n",
    "Normalizing data is important because it can help to improve the quality, consistency, and performance of the data and the data analysis methods. Normalizing data means organizing the data into separate tables based on their logical relationships, and ensuring that each piece of information is stored only once\n",
    "\n",
    "Normalizing data using min-max scaler from scikit-learn is a way of transforming the data so that each feature has a range between a minimum and a maximum value, usually 0 and 1. This can help to improve the performance and stability of some machine learning algorithms, such as distance-based or gradient-based methods\n",
    "\n",
    "Transform the training data and the test data using the transform method, which will scale each feature according to the formula:\n",
    "\n",
    "<math xmlns=\"http://www.w3.org/1998/Math/MathML\" display=\"block\"><semantics><mrow><msub><mi>X</mi><mrow><mi>s</mi><mi>c</mi><mi>a</mi><mi>l</mi><mi>e</mi><mi>d</mi></mrow></msub><mo>=</mo><mfrac><mrow><mi>X</mi><mo>−</mo><msub><mi>X</mi><mrow><mi>m</mi><mi>i</mi><mi>n</mi></mrow></msub></mrow><mrow><msub><mi>X</mi><mrow><mi>m</mi><mi>a</mi><mi>x</mi></mrow></msub><mo>−</mo><msub><mi>X</mi><mrow><mi>m</mi><mi>i</mi><mi>n</mi></mrow></msub></mrow></mfrac><mo>×</mo><mo stretchy=\"false\">(</mo><mi>m</mi><mi>a</mi><mi>x</mi><mo>−</mo><mi>m</mi><mi>i</mi><mi>n</mi><mo stretchy=\"false\">)</mo><mo>+</mo><mi>m</mi><mi>i</mi><mi>n</mi></mrow><annotation encoding=\"application/x-tex\">X_{scaled} = \\frac{X - X_{min}}{X_{max} - X_{min}} \\times (max - min) + min</annotation></semantics></math>\n",
    "\n",
    "where Xmin​ and Xmax​ are the minimum and maximum values of the feature in the training data, and min and max are the feature range specified by the feature_range parameter"
   ]
  },
  {
   "cell_type": "code",
   "execution_count": 10,
   "metadata": {},
   "outputs": [
    {
     "name": "stdout",
     "output_type": "stream",
     "text": [
      "data before normalize: \n",
      "[[  6.    148.     72.    ...   0.627  50.      1.   ]\n",
      " [  1.     85.     66.    ...   0.351  31.      0.   ]\n",
      " [  8.    183.     64.    ...   0.672  32.      1.   ]\n",
      " ...\n",
      " [  5.    121.     72.    ...   0.245  30.      0.   ]\n",
      " [  1.    126.     60.    ...   0.349  47.      1.   ]\n",
      " [  1.     93.     70.    ...   0.315  23.      0.   ]]\n",
      "\n",
      "data after normalize: \n",
      "[[0.35294118 0.74371859 0.59016393 ... 0.23441503 0.48333333 1.        ]\n",
      " [0.05882353 0.42713568 0.54098361 ... 0.11656704 0.16666667 0.        ]\n",
      " [0.47058824 0.91959799 0.52459016 ... 0.25362938 0.18333333 1.        ]\n",
      " ...\n",
      " [0.29411765 0.6080402  0.59016393 ... 0.07130658 0.15       0.        ]\n",
      " [0.05882353 0.63316583 0.49180328 ... 0.11571307 0.43333333 1.        ]\n",
      " [0.05882353 0.46733668 0.57377049 ... 0.10119556 0.03333333 0.        ]]\n"
     ]
    }
   ],
   "source": [
    "dataset.to_csv(\"dataset/data_train.csv\", header=False, index=False)\n",
    "scaler = MinMaxScaler()\n",
    "data_train = genfromtxt(\"dataset/data_train.csv\", delimiter=\",\")\n",
    "data_train_scaler = scaler.fit_transform(data_train)\n",
    "\n",
    "print(f\"data before normalize: \\n{data_train}\\n\")\n",
    "print(f\"data after normalize: \\n{data_train_scaler}\")"
   ]
  },
  {
   "cell_type": "code",
   "execution_count": 26,
   "metadata": {},
   "outputs": [],
   "source": [
    "headers = dataset.columns.tolist()\n",
    "x_train = data_train_scaler[:, :-1]\n",
    "y_train = data_train_scaler[:, -1]\n",
    "\n",
    "with open(\"dataset/headers.txt\", \"w\") as output:\n",
    "  writer = csv.writer(output)\n",
    "  writer.writerow(headers)\n",
    "\n",
    "np.savetxt(\"dataset/x_train.csv\", x_train, delimiter=\",\")\n",
    "np.savetxt(\"dataset/y_train.csv\", y_train, delimiter=\",\")\n"
   ]
  },
  {
   "cell_type": "code",
   "execution_count": 25,
   "metadata": {},
   "outputs": [
    {
     "data": {
      "text/plain": [
       "array([[0.35294118, 0.74371859, 0.59016393, ..., 0.50074516, 0.23441503,\n",
       "        0.48333333],\n",
       "       [0.05882353, 0.42713568, 0.54098361, ..., 0.39642325, 0.11656704,\n",
       "        0.16666667],\n",
       "       [0.47058824, 0.91959799, 0.52459016, ..., 0.34724292, 0.25362938,\n",
       "        0.18333333],\n",
       "       ...,\n",
       "       [0.29411765, 0.6080402 , 0.59016393, ..., 0.390462  , 0.07130658,\n",
       "        0.15      ],\n",
       "       [0.05882353, 0.63316583, 0.49180328, ..., 0.4485842 , 0.11571307,\n",
       "        0.43333333],\n",
       "       [0.05882353, 0.46733668, 0.57377049, ..., 0.45305514, 0.10119556,\n",
       "        0.03333333]])"
      ]
     },
     "execution_count": 25,
     "metadata": {},
     "output_type": "execute_result"
    }
   ],
   "source": []
  },
  {
   "cell_type": "code",
   "execution_count": null,
   "metadata": {},
   "outputs": [],
   "source": []
  }
 ],
 "metadata": {
  "kernelspec": {
   "display_name": "venv",
   "language": "python",
   "name": "python3"
  },
  "language_info": {
   "codemirror_mode": {
    "name": "ipython",
    "version": 3
   },
   "file_extension": ".py",
   "mimetype": "text/x-python",
   "name": "python",
   "nbconvert_exporter": "python",
   "pygments_lexer": "ipython3",
   "version": "3.10.12"
  }
 },
 "nbformat": 4,
 "nbformat_minor": 2
}
